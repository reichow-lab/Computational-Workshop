{
 "cells": [
  {
   "cell_type": "markdown",
   "metadata": {},
   "source": [
    "# Fundamental Concepts & Logic in Coding\n",
    "\n",
    "When we write a script in our lab, it is usually used to automate a tedius task to make it go both faster, and with higher efficacy. Sometimes the jobs are as simple as deciding to pull a single line of data from a number of files in a number of directories. Or they can be used for data-processing. Throughout the few years of programming I have under my belt, I feel confident that in order to write analytical/logistical scripts for ones self, you must know:\n",
    "\n",
    "1. **Conditional Statements** (if/elseif/else)\n",
    "2. **Boolean Operators** (and/or/not)\n",
    "3. **Loops** (while/for)\n",
    "\n",
    "Using these basic ideas, you can begin to write your own iterable scripts!"
   ]
  },
  {
   "cell_type": "markdown",
   "metadata": {},
   "source": [
    "# Conditional Statements\n",
    "\n",
    "Conditional states are a type of logic gate in a program that one can use to decide what the next step of the program will be, based off of the input. Conditional statements follow the generic syntax of ```if <condition> : do <work>```. Once again, the specific syntax of these statements are specific to the language being used. \n",
    "\n",
    "#### Python\n",
    "```python\n",
    "\n",
    "if (condition is met):     # note that parenthesis are not required, but can be helpful\n",
    "    \n",
    "    print('The condition is met')\n",
    "    \n",
    "else:\n",
    "    \n",
    "    print(\"The condition wasn't met\")\n",
    "```\n",
    "\n",
    "#### BASH\n",
    "```bash\n",
    "\n",
    "if [ condition is met ]\n",
    "\n",
    "then\n",
    "\n",
    "    \"echo condition is met\"\n",
    "    \n",
    "else\n",
    "\n",
    "    \"echo condition wasn't met\"\n",
    "    \n",
    "fi\n",
    "```\n",
    "\n",
    "In addition to if & else, there is often a third statement used called else-if, or ```elif``` in both Python & BASH, but we will learn how to use that later in the practical uses."
   ]
  },
  {
   "cell_type": "markdown",
   "metadata": {},
   "source": [
    "## Conditional Statements Practice\n",
    "\n",
    "Complete/Fix the following code, in order to get the correct code to run.\n",
    "\n",
    "### *Now might be a good time to mention a few of the operators used in conditional statements*\n",
    "\n",
    "* **Python**\n",
    "    * == : is equivalent to. **(note that '=' doesn't mean '=='. '=' sets a value, where '==' compares two values)**\n",
    "    * \\>= : greater than or equal to.\n",
    "    * \\> : greater than.\n",
    "    * <= : lesser than or equal to.\n",
    "    * < : lesser than.\n",
    "    * != : Not equal to *(This contains a boolean operator, we will see more of these later)*.\n",
    "* **BASH**\n",
    "    * -eq : equal to.\n",
    "    * -ge : greater than or equal to.\n",
    "    * -gt : greater than.\n",
    "    * -le : lesser than or equal to.\n",
    "    * -lt : lesser than.\n",
    "    * -ne : not equal to.\n",
    "   "
   ]
  },
  {
   "cell_type": "code",
   "execution_count": null,
   "metadata": {},
   "outputs": [],
   "source": [
    "a = \n",
    "\n",
    "if a == 10:\n",
    "    \n",
    "    print(\"a is equal to\", a)\n",
    "    \n",
    "else:\n",
    "    \n",
    "    print(\"a is not equal to 10\")"
   ]
  },
  {
   "cell_type": "code",
   "execution_count": null,
   "metadata": {},
   "outputs": [],
   "source": [
    "a = \n",
    "\n",
    "if a <= 10:\n",
    "    \n",
    "    b = 2*a\n",
    "    \n",
    "    print(a,\"times 2 =\",b)\n",
    "    \n",
    "elif a > 10:\n",
    "    \n",
    "    b = a - 5\n",
    "    \n",
    "    print(a,\"minus 5 =\",b)"
   ]
  },
  {
   "cell_type": "code",
   "execution_count": null,
   "metadata": {},
   "outputs": [],
   "source": [
    "A = 10\n",
    "\n",
    "if A != 10:\n",
    "    \n",
    "    print('I am the correct code block!')\n",
    "    \n",
    "else:\n",
    "    \n",
    "    print('I am the wrong code block!')"
   ]
  },
  {
   "cell_type": "markdown",
   "metadata": {},
   "source": [
    "### Make the same statements using BASH \n",
    "\n",
    "I'll start you off..."
   ]
  },
  {
   "cell_type": "code",
   "execution_count": null,
   "metadata": {},
   "outputs": [],
   "source": [
    "%%bash\n",
    "\n",
    "a=10\n",
    "\n",
    "if [ $a -eq 10 ]\n",
    "\n",
    "then\n",
    "\n",
    "echo \"a is equal to $a\"\n",
    "\n",
    "elif [ $a -ne 10 ]\n",
    "\n",
    "then\n",
    "\n",
    "echo \"a is not equal to 10\"\n",
    "\n",
    "fi"
   ]
  },
  {
   "cell_type": "code",
   "execution_count": null,
   "metadata": {},
   "outputs": [],
   "source": [
    "%%bash"
   ]
  },
  {
   "cell_type": "code",
   "execution_count": null,
   "metadata": {},
   "outputs": [],
   "source": [
    "%%bash"
   ]
  },
  {
   "cell_type": "markdown",
   "metadata": {},
   "source": [
    "## Boolean Operators\n",
    "\n",
    "You have probably heard of the boolean operators (and/or/not), or as they are often written as ```&&/||/!``` for the respective booleans. In Python, you can use either syntax, though the english ones will likely be better received. In addition to there being boolean operators, there are also 'bool-type' variables, 'True' & 'False'.  In Python they are written as ```True``` & ```False``` with capitolized letters, or ```$true``` & ```$false``` in BASH. The syntax for these values can change based off of the language you are coding in.\n",
    "\n",
    "Variables can hold certain boolean values, just like they could hold any other value be it a number, string, or other object.\n",
    "\n",
    "**Python**\n",
    "```python\n",
    "a = 'blue'\n",
    "b = 7\n",
    "c = True\n",
    "```\n",
    "\n",
    "**BASH**\n",
    "```bash\n",
    "a='blue'\n",
    "b=7\n",
    "c=$true\n",
    "```\n",
    "\n",
    "All are valid ways assign a variable in Python3 (and presumably other languages with slightly different syntax). Boolean operators (and values) are often used in conditional statements (and loops) to help with the \"iterative process\". "
   ]
  },
  {
   "cell_type": "code",
   "execution_count": null,
   "metadata": {},
   "outputs": [],
   "source": [
    "a,b,c = 'blue',7,True\n",
    "\n",
    "# Using the type() function in Python allows us to see what 'class' of variable we are using.\n",
    "\n",
    "print(type(a))\n",
    "print(type(b))\n",
    "print(type(c))"
   ]
  },
  {
   "cell_type": "code",
   "execution_count": null,
   "metadata": {},
   "outputs": [],
   "source": [
    "# Note that if the variable is a bool type, you can check if its true without comparing it to the value True\n",
    "\n",
    "if c == True:\n",
    "    print('c is',c)\n",
    "\n",
    "if c:\n",
    "    print('c is',c)\n",
    "\n",
    "# They give the same result!"
   ]
  },
  {
   "cell_type": "code",
   "execution_count": null,
   "metadata": {},
   "outputs": [],
   "source": [
    "# When boolean operators are used in conjunction with eachother we get a bool-type variable back\n",
    "\n",
    "a = True\n",
    "print(\"a is\",a)\n",
    "\n",
    "b = False\n",
    "print(\"b is\",b)\n",
    "\n",
    "print('\\n')\n",
    "\n",
    "print(\"a and b is:\",(a and b))\n",
    "\n",
    "print(\"a and not b is:\",(a and not b))\n",
    "\n",
    "print(\"a and a is:\",(a and a))\n",
    "\n",
    "print(\"a or b is:\",(a or b))\n",
    "\n",
    "print(\"b and b is:\",(b and b))"
   ]
  },
  {
   "cell_type": "code",
   "execution_count": null,
   "metadata": {},
   "outputs": [],
   "source": [
    "if a == True:\n",
    "    print(\"productive code block\")\n",
    "    \n",
    "else:\n",
    "    print(\"skip\")"
   ]
  },
  {
   "cell_type": "markdown",
   "metadata": {},
   "source": [
    "Now that we have tested the waters with conditional statements and boolean operators/values, let's  put them to use in some loops!\n",
    "\n",
    "# Loops, While & For\n",
    "\n",
    "There are many reasons to use loops in a program. Loops are used to iterate through a certain set of code, or functions as many times as you have inputs. Some cases where loops are useful:\n",
    "\n",
    "1. Iterate through many files that have the same prefix, but different indexed number (output files from RELION)\n",
    "2. Perform sums, and discretized integrals by iteritively summing over the values of a function\n",
    "3. Iterate through a list of items that need a function performed onto them.\n",
    "\n",
    "There are two types of loops that we will be talking about today, the 'while-loop' and the 'for-loop'.\n",
    "\n",
    "The while loop is the first that is typically learned, and is extremely useful in its simplicity. The function of the while loop is to allow you to perform a single function many times as you want, provided the condition is met!\n",
    "\n",
    "Python example:\n",
    "\n",
    "```python\n",
    "a = True\n",
    "b = 10\n",
    "\n",
    "while a == True:\n",
    "    \n",
    "    if b >= 5:\n",
    "        \n",
    "        b = b - 1\n",
    "\n",
    "    elif b < 5:\n",
    "        \n",
    "        a = False\n",
    "        \n",
    "        print(b)\n",
    "        \n",
    "        print('end of loop')\n",
    "```\n",
    "\n",
    "In this case the loop will continue until b is equal to 4 or less. The condition of the while loop doesn't have to be a boolean type variable, it can be enumerated as well.\n",
    "\n",
    "```python\n",
    "b = 10\n",
    "\n",
    "while b > 5:\n",
    "    \n",
    "    b = b - 1\n",
    "    \n",
    "    if b < 5:\n",
    "        \n",
    "        print(b)\n",
    "        \n",
    "        print('end of loop')\n",
    "```\n",
    "\n",
    "BASH example:\n",
    "\n",
    "```bash\n",
    "b=10\n",
    "\n",
    "while [ $b -ge 5 ]\n",
    "do\n",
    "\n",
    "b=$[ $b-1 ]\n",
    "\n",
    "if [ $b -lt 6 ]\n",
    "then\n",
    "echo $b\n",
    "echo \"end of loop\"\n",
    "fi\n",
    "done\n",
    "```\n",
    "\n",
    "All three of the loops should have identical outputs. Try them out by typing them into the next cell and see that they do. If not, fix them to do so."
   ]
  },
  {
   "cell_type": "code",
   "execution_count": null,
   "metadata": {},
   "outputs": [],
   "source": []
  },
  {
   "cell_type": "code",
   "execution_count": null,
   "metadata": {},
   "outputs": [],
   "source": []
  },
  {
   "cell_type": "code",
   "execution_count": null,
   "metadata": {},
   "outputs": [],
   "source": []
  },
  {
   "cell_type": "markdown",
   "metadata": {},
   "source": [
    "While loops are nice as long as you have a condition that you need met, but what if you have a 2-D array (or an image) and you need a way to systematically access each cell to check its value. Or, for example, you have a list of file names that you would like to iterate through, but you do not know exactly how many files there are in the list? \n",
    "\n",
    "\n",
    "For loops can solve both of these problems! For loops also have conditions that must be satisfied, but there are built in ways to iterate through them in a consistent (non-boolean) way.\n",
    "\n",
    "Example:\n",
    "\n",
    "```python\n",
    "for i in range(0,10,1):\n",
    "    \n",
    "    print(i)\n",
    "```\n",
    "Let's say we have a list of (A) of names, and we want to iterate through it.\n",
    "\n",
    "```python\n",
    "A = ['Susie','Adam','Jonny','Russell','Bassam','Matt','Umair']\n",
    "\n",
    "for name in A:\n",
    "    \n",
    "    print('Hello %s how are you?' % name) \n",
    "```\n",
    "\n",
    "Can you guess the output of the for loops?"
   ]
  },
  {
   "cell_type": "code",
   "execution_count": null,
   "metadata": {},
   "outputs": [],
   "source": []
  }
 ],
 "metadata": {
  "kernelspec": {
   "display_name": "Python 3",
   "language": "python",
   "name": "python3"
  },
  "language_info": {
   "codemirror_mode": {
    "name": "ipython",
    "version": 3
   },
   "file_extension": ".py",
   "mimetype": "text/x-python",
   "name": "python",
   "nbconvert_exporter": "python",
   "pygments_lexer": "ipython3",
   "version": "3.7.3"
  }
 },
 "nbformat": 4,
 "nbformat_minor": 2
}
