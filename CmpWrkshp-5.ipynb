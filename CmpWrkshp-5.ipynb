{
 "cells": [
  {
   "cell_type": "markdown",
   "metadata": {},
   "source": [
    "# Computation Workshop 5\n",
    "## Using and editing *star-plot.py*\n",
    "\n",
    "star-plot.py is a program that pulls information from .star files that gives one information as to the convergence of their particle classification job.\n",
    "\n",
    "Currently, it outputs graphs for 3 different variables vs. job iteration. The three variables of interest (so far) are the particle class distribution, rotation accuracy, and the translation accuracy. \n",
    "\n",
    "The goal of todays workshop will be to not only utilize this plotting script for yourself, but to edit it in ways to suit your needs.\n",
    "\n",
    "To use the program in the command line simply run \"python star-plot.py /PATH/TO/STARFILES/ outfile\", and it will output the plots, which you can save as PNGs. \n",
    "\n",
    "With this Jupyter notebook, you should be able to enter the directory path, and get the plots displayed immediately...it will also have some explanation for the program itself."
   ]
  },
  {
   "cell_type": "markdown",
   "metadata": {},
   "source": [
    "## Libraries for our program to work\n",
    "\n",
    "**glob** is the name of a function, or method, that is contained within a library called **glob**. It allows us to search for directories and files using a pathnames. It will help us locate, and save the names of our .star files.\n",
    "\n",
    "**argv** is the name of a method in the library called **sys**. It allows us to pass arguments from the command line and assign them to variables within our program. It will not be important for this notebook, as we don't need a command line to run it. However, it is required in the standalone script.\n",
    "\n",
    "**pyplot**, a method in the **matplotlib** graphing library, is the suite of codes that allows us to plot pretty graphs using python...and probably a whole lot more.\n",
    "\n",
    "**numpy** is a mathematical library in python that focuses on matrix calculations among many other maths related coding.\n",
    "\n",
    "**re** is a 'regular expression' library, that allows us to use python codes as one might used **grep** in the command line."
   ]
  },
  {
   "cell_type": "code",
   "execution_count": null,
   "metadata": {},
   "outputs": [],
   "source": [
    "from glob import glob\n",
    "import sys\n",
    "from matplotlib import pyplot as plt\n",
    "import numpy as np\n",
    "import re"
   ]
  },
  {
   "cell_type": "code",
   "execution_count": 15,
   "metadata": {},
   "outputs": [],
   "source": [
    "# This line is only pertinent to the program when run from the command line.\n",
    "\n",
    "# script, path2star, outname = argv"
   ]
  },
  {
   "cell_type": "markdown",
   "metadata": {},
   "source": [
    "First, in order to get the jupyter notebook to work, enter the path to the directory containing the starfile-directory in the cd command. This will ensure that the notebook knows where to look to find your starfiles."
   ]
  },
  {
   "cell_type": "code",
   "execution_count": null,
   "metadata": {},
   "outputs": [],
   "source": [
    "%%bash\n",
    "\n",
    "cd /Users/bassam/Desktop/Computational\\ Workshop/\n",
    "\n",
    "pwd"
   ]
  },
  {
   "cell_type": "markdown",
   "metadata": {},
   "source": [
    "### Define your output name & starfile directory name\n",
    "\n",
    "Here you must enter the name for your files to be output to. These will be the raw coordinates of the figures you are making in case you would rather recreate the graphs yourself in excel.\n",
    "\n",
    "Furthermore, you must enter the name of the directory containing the star files on the line starting with 'starlist'.\n",
    "\n",
    "glob creates a list of the files in the directory ending in '.star'. We will iterate through this list soon!"
   ]
  },
  {
   "cell_type": "code",
   "execution_count": null,
   "metadata": {},
   "outputs": [],
   "source": [
    "outname = 'TEST'\n",
    "\n",
    "starlist = glob(('job158' + '/*.star'))\n",
    "print(starlist)\n",
    "starlist.sort()\n",
    "print(starlist)"
   ]
  },
  {
   "cell_type": "markdown",
   "metadata": {},
   "source": [
    "### Creating the output files\n",
    "\n",
    "When you are editing a file in python (or any other language really) you must first open the file. Before doing that we must decide what we want to call the files. Earlier we entered the 'outfile' name, this will now be the prefix, such that all of the output files will have the same prefix. \n",
    "\n",
    "We can create the different file names simply by add the two strings 'outname' with the different file-enders. \n",
    "\n",
    "Next we create the file variables (i.e. classd) which is how python will keep track of the actual file. The 'w' in the open function tells the computer that we are going to write in the file, as opposed to read, or append."
   ]
  },
  {
   "cell_type": "code",
   "execution_count": null,
   "metadata": {},
   "outputs": [],
   "source": [
    "classd_end      = outname + '_rlnClassDistribution.txt'\n",
    "accrot_end      = outname + '_rlnAccuracyRotations.txt'\n",
    "acctra_end      = outname + '_rlnAccuracyTranslations.txt'\n",
    "\n",
    "classd          = open(classd_end, 'w')\n",
    "accrot          = open(accrot_end, 'w')\n",
    "acctra          = open(acctra_end, 'w')"
   ]
  },
  {
   "cell_type": "markdown",
   "metadata": {},
   "source": [
    "### Extracting Pertinent Data\n",
    "\n",
    "Here we will now go through each star file using a for-loop, and extract the data points from each file. Once the data points are extracted, we can write them out to the files we have just created.\n"
   ]
  },
  {
   "cell_type": "code",
   "execution_count": null,
   "metadata": {},
   "outputs": [],
   "source": [
    "iteration       = 0                           # This allows us to keep track of the number of iterations...starts at 0\n",
    "\n",
    "for starfile in starlist:                     # Beginning of for-loop\n",
    "\n",
    "        with open(starfile) as star:          # This is an additional way to open files in python, nameing the file 'star'\n",
    "\n",
    "                classd.write(str(iteration) + '\\t')     # Writing the iteration values and a tab\n",
    "                accrot.write(str(iteration) + '\\t')\n",
    "                acctra.write(str(iteration) + '\\t')\n",
    "\n",
    "                iteration += 1                # increments the variable iteration by 1.\n",
    "\n",
    "                for line in star:             # beginning of second (embedded) for-loop going over each line in each file.\n",
    "\n",
    "                        if re.search('Class3D', line):   # if the function re.search finds a line with the words 'Class3D' it will put that line of text into a variable called line\n",
    "\n",
    "                                val = line.split()       # Now we are parsing the line by splitting up each word, and indexing them.\n",
    "                                                         # It so happens that the variables we are interested are the 2nd 3rd and 4th. Since they are indexed, we see 1,2,3.\n",
    "                                \n",
    "                                classd.write(str(val[1]) + '\\t')  # Writing the values from each line into their respective files.\n",
    "                                accrot.write(str(val[2]) + '\\t')  # Now each file will contain the iteration number, and associated values.\n",
    "                                acctra.write(str(val[3]) + '\\t')\n",
    "\n",
    "                classd.write('\\n')  # This adds a new line to the file, so that we don't print everying on one line.\n",
    "                accrot.write('\\n')\n",
    "                acctra.write('\\n')\n",
    "\n",
    "classd.close()   # Finaly, you must close the files that you have opened, so that no errors may occur to the files.\n",
    "accrot.close()\n",
    "acctra.close()"
   ]
  },
  {
   "cell_type": "markdown",
   "metadata": {},
   "source": [
    "### Defining a plotting function that we can call multiple times\n",
    "\n",
    "Though we have not discussed functions much before, I will give a briefe introduction here. Since we will be plotting multiple figures, we don't want to have to write the plotting stuff multiple times. Thus we will create a function that takes a certain number of inputs (input file, labels, etc.) and plots each of our graphs. \n",
    "\n",
    "Don't worry too much about how the graphing is written, as there are many ways to do so. \n",
    "\n",
    "First we must define the function and create a name for it (I chose 'plotter'), and decide what input values it needs. \n",
    "\n",
    "Next we are taking advantage of a function (or method) from the numpy library to import all of our data into a form that can be easily plotted. \n",
    "\n",
    "Then we define our plot, or graph-area. Each line we want to plot must be entered in the following fashion: (x, y1, color1, x, y2, color2, x, y3, color3 ... etc.)\n",
    "\n",
    "Finally we create our plots, as we did in the first workshop (remember, you can play around with the plot area) and save them as .png's."
   ]
  },
  {
   "cell_type": "code",
   "execution_count": null,
   "metadata": {},
   "outputs": [],
   "source": [
    "def plotter(infile, title, ylabel, xlabel, filename):\n",
    "\n",
    "    iteration, class1, class2, class3, class4 = np.genfromtxt(infile, delimiter='\\t', dtype=float, unpack=True, usecols=(0,1,2,3,4))\n",
    "\n",
    "    plt.plot(iteration, class1, 'C0--', iteration, class2, 'C1--', iteration, class3, 'C2--', iteration, class4, 'C3--')\n",
    "    plt.title(title)\n",
    "    plt.ylabel(ylabel)\n",
    "    plt.xlabel(xlabel)\n",
    "    plt.savefig(filename)\n",
    "    plt.show()"
   ]
  },
  {
   "cell_type": "code",
   "execution_count": null,
   "metadata": {},
   "outputs": [],
   "source": [
    "filename = outname + \"_rlnClassDistribution.png\"\n",
    "plotter(classd_end, 'Class Distributions', 'Population (%)', 'Iteration Number', filename)"
   ]
  },
  {
   "cell_type": "code",
   "execution_count": null,
   "metadata": {},
   "outputs": [],
   "source": [
    "filename = outname + \"_rlnAccuracyRotations.png\"\n",
    "plotter(accrot_end, 'Accuracy Rotation', 'Rotation (degrees)', 'Iteration Number', filename)"
   ]
  },
  {
   "cell_type": "code",
   "execution_count": null,
   "metadata": {},
   "outputs": [],
   "source": [
    "filename = outname + \"_rlnAccuracyTranslations.png\"\n",
    "plotter(acctra_end, 'Accuracy Translation', 'Translation (Angstrom)', 'pixels', filename)"
   ]
  }
 ],
 "metadata": {
  "kernelspec": {
   "display_name": "Python 3",
   "language": "python",
   "name": "python3"
  },
  "language_info": {
   "codemirror_mode": {
    "name": "ipython",
    "version": 3
   },
   "file_extension": ".py",
   "mimetype": "text/x-python",
   "name": "python",
   "nbconvert_exporter": "python",
   "pygments_lexer": "ipython3",
   "version": "3.7.3"
  }
 },
 "nbformat": 4,
 "nbformat_minor": 2
}
