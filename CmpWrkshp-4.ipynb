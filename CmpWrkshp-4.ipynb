{
 "cells": [
  {
   "cell_type": "markdown",
   "metadata": {},
   "source": [
    "# Simple Renaming Scripts with BASH\n",
    "\n",
    "Today we will be looking at a simple .sh script that can uses what we have learned thus far in BASH to iterate through a number of files, and renames them in an ordered fashion.\n",
    "\n",
    "Depending on what we want to do, we can make these scripts complex by using conditional statements to parse through the selection to guarentee that we are choosing the right files to be named. However, in this simple example all we will need is the while loop!\n",
    "\n",
    "## Review While-loop\n",
    "\n",
    "```bash\n",
    "while [ <conditional statement> ]\n",
    "do\n",
    "    <Run Code>\n",
    "done\n",
    "```\n",
    "\n",
    "It is as simple as that. The conditional statement can be whatever you want it to be, whether it is iterating through some variable ('n' for example), comparing two values, or evaluating a boolean variable.\n",
    "\n",
    "## The Code\n",
    "\n",
    "This is the first example of an actually functional BASH script that can actually be used in your daily life. It is extremely simple, but a good place to start!\n",
    "\n",
    "**rename_mrc.sh** :\n",
    "```bash\n",
    "\n",
    "#!/bin/bash\n",
    "\n",
    "n=0\n",
    "\n",
    "echo \"How many input files are there?\"\n",
    "read num_files\n",
    "echo \"What is your starting digit (infile)?\"\n",
    "read b\n",
    "echo \"What is the file starter (infile)?\"\n",
    "read file_from_starter\n",
    "echo \"What is the file ender (infile)?\"\n",
    "read file_from_ender\n",
    "echo \"What is the file starter (outfile)?\"\n",
    "read file_to_starter\n",
    "echo \"What is the file ender (outfile)?\"\n",
    "read file_to_ender\n",
    "echo \"What is your starting digit (outfile)?\"\n",
    "read c\n",
    "\n",
    "while [ $n -lt $num_files ]\n",
    "do\n",
    "\n",
    "\tprintf -v num_b '%04s' $b\n",
    "    printf -v num_c '%04s' $c\n",
    "\n",
    "\tfrom=\"$file_from_starter$num_b$file_from_ender\"\n",
    "    to=\"$file_to_starter$num_c$file_to_ender\"\n",
    "\n",
    "\tmv $from $to\n",
    "\n",
    "\t((n++))\n",
    "\t((c++))\n",
    "\t((b++))\n",
    "done\n",
    "```\n",
    "\n",
    "You can find the bash script, ```rename_mrc.sh``` for download in the Computational-Workshop Folder."
   ]
  },
  {
   "cell_type": "markdown",
   "metadata": {},
   "source": [
    "# Breaking it down\n",
    "\n",
    "**line 1**:\n",
    "```bash\n",
    "#!/bin/bash\n",
    "```\n",
    "\n",
    "This is called a ***Shebang***, it is a line in any script (Python, BASH, Tcl, etc.) that tells the code where to find the language. Even if you are in a conda environment, the computer will use the Shebang to decide which version of BASH to use. If you don't want to use your base version, you can change the address in the Shebang to go to the conda version.\n",
    "\n",
    "**line 2**:\n",
    "```bash\n",
    "n=0\n",
    "```\n",
    "\n",
    "Here we are calling our first iterable variable, setting it to 0. This will be the variable that controls our ```while-loop```.\n"
   ]
  },
  {
   "cell_type": "markdown",
   "metadata": {},
   "source": [
    "**line 3 - 16**:\n",
    "```bash\n",
    "echo \"How many input files are there?\"\n",
    "read num_files\n",
    "echo \"What is your starting digit (infile)?\"\n",
    "read b\n",
    "echo \"What is the file starter (infile)?\"\n",
    "read file_from_starter\n",
    "echo \"What is the file ender (infile)?\"\n",
    "read file_from_ender\n",
    "echo \"What is the file starter (outfile)?\"\n",
    "read file_to_starter\n",
    "echo \"What is the file ender (outfile)?\"\n",
    "read file_to_ender\n",
    "echo \"What is your starting digit (outfile)?\"\n",
    "read c\n",
    "```\n",
    "\n",
    "This is how we can use BASH scripts to take input from the user (YOU) to run the program in a more dynamic way, as opposed to having to edit your code everytime you want to change the name of the files you want to change. The ```read``` command in BASH takes whatever the user input is, and assignes it to the variable following the ```read``` command."
   ]
  },
  {
   "cell_type": "markdown",
   "metadata": {},
   "source": [
    "**line 17-18**: (where the fun begins)\n",
    "```bash\n",
    "while [ $n -lt $num_files ]\n",
    "do\n",
    "```\n",
    "This is our first (and only) ```while-loop``` in the program, and this is how we can iterate through the number of files (as defined by the variable ```$num_files``` (remember, once a variable is assigned it must contain a ```$``` in front of it) and perform our file changing actions.\n",
    "\n",
    "What is the conditional statement inside the ```while-loop```? First we should notice our iterable variable, ```$n``` from earlier, and we are comparing it to the value, ```$num_files```. Since we are know the ```-lt``` comparative operator to be \"less than\" we can actually read the whole statement in English:\n",
    "\n",
    "\"While ```$n``` is less than ```$num_files``` do...\"\n",
    "\n",
    "Thus, we will perform the code inside the while loop as many times as there are files (determined by user) in the directory."
   ]
  },
  {
   "cell_type": "markdown",
   "metadata": {},
   "source": [
    "**line 19-20**:\n",
    "```bash\n",
    "printf -v num_b '%04s' $b\n",
    "printf -v num_c '%04s' $c\n",
    "```\n",
    "There is a lot going on here that we haven't seen before, so let's take it slow.\n",
    "\n",
    "```printf``` is a comman in BASH known as 'print format'. It is a tool to help print in a more organized way, then simply ```echo``` the new string.\n",
    "\n",
    "The ```-v``` flag (which usually means verbose) in this case means 'variable', instructing the ```printf``` to create a new variable with the name given as the following string, 'num_b/num_c' in this case. Why don't they have ```$``` in front of them?\n",
    "\n",
    "The ```%04s``` is a formatting trick in BASH. The ```%``` means that we are going to have a repeat of a certain char (0 in this case). The '4' tells ```printf``` that there will be a padding of 4 zeros, and the 's' says that the new value is a string. The new number will have no fewer than 4 digits, but it can have more ... let's practice!\n",
    "\n"
   ]
  },
  {
   "cell_type": "code",
   "execution_count": null,
   "metadata": {},
   "outputs": [],
   "source": [
    "%%bash\n",
    "old=040\n",
    "\n",
    "printf -v newnumber '%04s' $old\n",
    "echo $newnumber\n",
    "\n",
    "# What happens if you make it such that $old has padded zeros? Will it work?"
   ]
  },
  {
   "cell_type": "code",
   "execution_count": null,
   "metadata": {},
   "outputs": [],
   "source": [
    "%%bash\n",
    "a=$(($newnumber * 2))\n",
    "echo $a\n",
    "\n",
    "# re-write this line, to write out the new number with the same formatting as the input number."
   ]
  },
  {
   "cell_type": "markdown",
   "metadata": {},
   "source": [
    "**line 21-22**: \n",
    "```bash\n",
    "from=\"$file_from_starter$num_b$file_from_ender\"\n",
    "to=\"$file_to_starter$num_c$file_to_ender\"\n",
    "```\n",
    "\n",
    "Here we are simply creating two new strings (our old and new file names). We are doing this by concattanating multiple **string** variables, and putting them in quotes. this will simply combine the three strings together to form a newstring assigned to the variable named ```$from``` & ```$to```"
   ]
  },
  {
   "cell_type": "code",
   "execution_count": null,
   "metadata": {},
   "outputs": [],
   "source": [
    "%%bash\n",
    "# Example\n",
    "\n",
    "a=\"May \"\n",
    "b=\"the force \"\n",
    "c=\"be with you.\"\n",
    "\n",
    "d=\"$a$b$c\"\n",
    "\n",
    "echo $d"
   ]
  },
  {
   "cell_type": "markdown",
   "metadata": {},
   "source": [
    "**line 23**:\n",
    "```bash\n",
    "mv $from $to\n",
    "```\n",
    "This line should require the least amount of explanation as ```mv``` is a BASH command that we are all familiar with. It changes the name from the file named ```$from``` to the file named ```$to```."
   ]
  },
  {
   "cell_type": "markdown",
   "metadata": {},
   "source": [
    "**line 24-26**:\n",
    "```bash\n",
    "((n++))\n",
    "((c++))\n",
    "((b++))\n",
    "```\n",
    "There are a few ways to increment a variable in BASH, and this happens to be my favorite. It simply increases the value of the variable inside the double parenthesese by 1. This allows us to not only interate through each file in our directory, but it allows us to iterate through the numbering of the files that we are changing. "
   ]
  },
  {
   "cell_type": "markdown",
   "metadata": {},
   "source": [
    "# Practice\n",
    "\n",
    "Write a short BASH script that creates an 'n' number of files with iterating names that you can use to practice with ```rename_mrc.sh```.\n",
    "\n",
    "If you are unable to, a program named ```test_files.sh``` is prepared for you in the Computational-Workshop repository."
   ]
  },
  {
   "cell_type": "code",
   "execution_count": null,
   "metadata": {},
   "outputs": [],
   "source": []
  }
 ],
 "metadata": {
  "kernelspec": {
   "display_name": "Python 3",
   "language": "python",
   "name": "python3"
  },
  "language_info": {
   "codemirror_mode": {
    "name": "ipython",
    "version": 3
   },
   "file_extension": ".py",
   "mimetype": "text/x-python",
   "name": "python",
   "nbconvert_exporter": "python",
   "pygments_lexer": "ipython3",
   "version": "3.7.3"
  }
 },
 "nbformat": 4,
 "nbformat_minor": 2
}
