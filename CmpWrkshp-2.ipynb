{
 "cells": [
  {
   "cell_type": "markdown",
   "metadata": {},
   "source": [
    "# Version Control with *Git* and *GitHub*\n",
    "\n",
    "Today we will be discussing what version control is, how we can use the program *Git* to 'control' our 'versions' of code.\n",
    "\n",
    "## What is version control?\n",
    "\n",
    "Version control is the scheme by which a single (or many) coders keep their code organized, such that everyone has the same copy of their programs or projects. \n",
    "\n",
    "For example: \n",
    "I have a script, originally written on Klaus, that is used on all three MD workstations. I am constantly updating codes, making them more efficient, or adding functionality. As it happens the version of the script on Maxwell is the most up-to-date version, however those changes have yet to be made on Klaus & Bertha.\n",
    "\n",
    "If I were using version control, changes to code would be tracked better, and I could easily make it so all of the programs are the same on all three machines.\n",
    "\n",
    "In version control (VC) there are 'branches'. The master branch is **THE PROGRAM** and each branch is a separate instance or copy of the code that is being worked on...one should never directly edit the master branch. Once you are finished with your code on the new branch, you can merge it to the master branch, and the changes will be made after going through checks to ensure the program doesn't fail with the new addition.\n",
    "\n",
    "## What is *Git*?\n",
    "\n",
    "Git is a program that is used to manage, and perform version control on ones own computer/server. It creates many hidden sub_directories that keep the clutter low, but organizes which parts of the code you are working on, and where the master branch is.\n",
    "\n",
    "## What is *GitHub*?\n",
    "\n",
    "GitHub is a third-party (*microsoft*) website that acts as a vault for you to store all of your codes in a single repository. \n",
    "\n",
    "We will be using a Reichow_Lab GitHub account to store/maintain all of our lab codes.\n",
    "\n",
    "GitHub has many features, in that it can hold more than just codes, but other lab docs, and papers (but we are using slack for this stuff.) GitHub has a texteditor built into the website, so you can use a GUI for all of the coding an version control. \n",
    "\n",
    "## What we are doing today.\n",
    "\n",
    "Learning to use *Git* from the command line, and interacting with the Reichow_Lab GitHub account. We will write a program together, each editing from our own branches. Then we will merge them together to see our final program at the end."
   ]
  },
  {
   "cell_type": "markdown",
   "metadata": {},
   "source": [
    "## Documents & Git commands\n",
    "\n",
    "https://git-scm.com/docs\n",
    "\n",
    "you can also run the command 'git --help' to get the basic commands."
   ]
  },
  {
   "cell_type": "markdown",
   "metadata": {},
   "source": [
    "# Using *Git*"
   ]
  },
  {
   "cell_type": "markdown",
   "metadata": {},
   "source": [
    "First we are going to setup the Git credentials...these are not used for GitHub rather they are used to give credit to anyone who makes the change to the coding.\n",
    "```bash\n",
    "git config --global user.name \"Jon Doe\"\n",
    "git config --global user.email \"JonDoe@email.com\"\n",
    "```"
   ]
  },
  {
   "cell_type": "markdown",
   "metadata": {},
   "source": [
    "Remember, this is not for any \"git hosting\" websites, such as GitHub, but for *Git* to keep track of who is doing what.\n",
    "\n",
    "## Time to create our first repository.\n",
    "\n",
    "We will first be using *Git* on our own laptops (make sure it is downloaded) you can use conda if it isn't. Or you can go to the Git website and download the program from there.\n",
    "\n",
    "### ~ git init \"name of repository\"\n",
    "\n",
    "This command will create a project directory, where all of your codes will be maintained."
   ]
  },
  {
   "cell_type": "markdown",
   "metadata": {},
   "source": [
    "```bash\n",
    "git init \"CmpWrkshp2_Project\"\n",
    "```\n",
    "Now that the project directory is created, go into the directory"
   ]
  },
  {
   "cell_type": "markdown",
   "metadata": {},
   "source": [
    "Now that we have created and are in our project directory, we are going to create a text file, add it to the *stage*, and finally commit it to the master branch."
   ]
  },
  {
   "cell_type": "markdown",
   "metadata": {},
   "source": [
    "Now that the project directory is created, go into the directory\n",
    "```bash\n",
    "cd CmpWrkshp2_Project/ \n",
    "```"
   ]
  },
  {
   "cell_type": "markdown",
   "metadata": {},
   "source": [
    "### Create a new file using the command *touch*, then edit it using the command *vi* or *nano*...whichever you prefer."
   ]
  },
  {
   "cell_type": "markdown",
   "metadata": {},
   "source": [
    "```bash\n",
    "touch newfile.txt\n",
    "\n",
    "vi newfile.txt\n",
    "```\n",
    "use ```ls -a``` to see if .git is inside your new project directory."
   ]
  },
  {
   "cell_type": "markdown",
   "metadata": {},
   "source": [
    "It doesn't matter what you write in here, it's just a text file."
   ]
  },
  {
   "cell_type": "markdown",
   "metadata": {},
   "source": [
    "### Now we are going to use the ~ git add ~ command to \"stage\" the new addition."
   ]
  },
  {
   "cell_type": "markdown",
   "metadata": {},
   "source": [
    "```bash\n",
    "git add newfile.txt\n",
    "```"
   ]
  },
  {
   "cell_type": "markdown",
   "metadata": {},
   "source": [
    "### We are now ready to commit the newfile (or changes) to the branch we are working in."
   ]
  },
  {
   "cell_type": "markdown",
   "metadata": {},
   "source": [
    "```bash\n",
    "git commit\n",
    "```\n",
    "Notice that we are not commiting ```newfile.txt``` alone. We can edit multiple files on a project ```git add``` them to the stage then ```git commit``` all of the edited documents to the branch all at once."
   ]
  },
  {
   "cell_type": "markdown",
   "metadata": {},
   "source": [
    "## Branching with *Git*\n",
    "\n",
    "Now that we have created our first Git repository, let's make some branches!\n",
    "\n",
    "Recall that we have only been working on the master branch...but we shouldn't edit documents in the master branch!\n",
    "\n",
    "Let's create an 'edit' branch.\n",
    "\n",
    "First, use the command 'git branch' to see which branch you are currently working in."
   ]
  },
  {
   "cell_type": "markdown",
   "metadata": {},
   "source": [
    "```bash\n",
    "git branch\n",
    "```"
   ]
  },
  {
   "cell_type": "markdown",
   "metadata": {},
   "source": [
    "### Creating a new branch"
   ]
  },
  {
   "cell_type": "markdown",
   "metadata": {},
   "source": [
    "'git branch' alone will list available branches\n",
    "\n",
    "```bash\n",
    "git branch edit\n",
    "```\n",
    "we just created a branch named edit... check available branches now.\n",
    "\n",
    "```bash\n",
    "git branch\n",
    "\n",
    "git checkout edit # This moves us to the edit branch\n",
    "```\n",
    "Check the branches now.\n",
    "```bash\n",
    "git branch\n",
    "```"
   ]
  },
  {
   "cell_type": "markdown",
   "metadata": {},
   "source": [
    "Now that we have two branches, let's make some changes to 'newfile.txt' in the edit branch.\n",
    "\n",
    "Once you have made your edits, you must use ```git add``` to stage it, then ```git commit``` to commit the change.\n",
    "\n",
    "**Now** let's create a new file that we only want in our ***edit*** branch."
   ]
  },
  {
   "cell_type": "markdown",
   "metadata": {},
   "source": [
    "```bash\n",
    "touch file-in-edit.txt\n",
    "\n",
    "git add file-in-edit.txt\n",
    "\n",
    "git commit #Automatically opens vi to add a commit message\n",
    "```\n",
    "If you do not want vi to open when commiting, you can simply add a message to the commit command like so:\n",
    "\n",
    "```bash\n",
    "git commit -m \"Some message\"\n",
    "```"
   ]
  },
  {
   "cell_type": "markdown",
   "metadata": {},
   "source": [
    "### Check your work\n",
    "\n",
    "Use ```head newfile.txt``` to see the contents of the document in the edit branch. Then use ```ls``` to prove to yourself that you have the correct files ```newfile.txt``` & ```file-in-edit.txt```.\n",
    "\n",
    "### Now change into the master branch\n",
    "```bash\n",
    "git checkout master\n",
    "```\n",
    "Now repeat the same tests as above."
   ]
  },
  {
   "cell_type": "markdown",
   "metadata": {},
   "source": [
    "## Merging Branches\n",
    "\n",
    "Now that we are happy with the edits and additions, lets put them into the master branch.\n",
    "\n",
    "*This is a simple example, and there are more considerations to have when merging multiple branches*\n",
    "*Here is a good that goes more into depth: https://www.atlassian.com/git/tutorials/using-branches/git-merge*\n",
    "\n",
    "```git merge <target>``` merges the 'target' branch into the current (typically *master*) branch. \n",
    "\n",
    "1. Ensure you're in the correct branch\n",
    "```bash\n",
    "git checkout master```\n",
    "2. Now merge the target (*edit*) branch into *master*\n",
    "```bash\n",
    "git merge edit```\n",
    "3. Finally, delete the *edit* branch since *master* is up-to-date\n",
    "```bash\n",
    "git branch -d edit```"
   ]
  },
  {
   "cell_type": "markdown",
   "metadata": {},
   "source": [
    "# Working with GitHub (basics)\n",
    "\n",
    "Now that we have learned **some** of the essentials of git and how it works, let's learn a bit about using GitHub. GitHub is known as a git host-site, and stores repositories (i.e. directories) and logs tracks the changes that are made by communicating with the git command. While in GitHub, you can use a GUI to create/merge/delete branches, create/edit/delete files, and moniter all of the changes to the code. This mini-workshop is forcing us to get our feet wet from the commmand line.\n",
    "\n",
    "I have created a Reichow_Lab GitHub account, and all of you should have received invites to it. \n",
    "\n",
    "Once you have created your GitHub account, go to the ```reichow-lab/Computational-Workshop``` repository, and go to the download tab to copy the link...(or look at the next cell). \n",
    "\n",
    "Now, we are going to \"clone\" a GitHub repository to our current working directory."
   ]
  },
  {
   "cell_type": "markdown",
   "metadata": {},
   "source": [
    "Go to your Computational-Workshop directory, and use the ```git clone``` command "
   ]
  },
  {
   "cell_type": "markdown",
   "metadata": {},
   "source": [
    "```bash\n",
    "git clone https://github.com/reichow-lab/Computational-Workshop.git\n",
    "```"
   ]
  },
  {
   "cell_type": "markdown",
   "metadata": {},
   "source": [
    "You'll find that a new directory has been downloaded to your current working directory, and in it a file called 'welcome-to-github.txt'"
   ]
  },
  {
   "cell_type": "markdown",
   "metadata": {},
   "source": [
    "## Creating Your own branch in GitHub\n",
    "\n",
    "### git push/pull\n",
    "\n",
    "Once you have cloned the GitHub repository to your computer, it is now synced with GitHub...If you want to receive any updates to the repository, use ```git pull origin``` to pull down the updated repository from GitHub. Then to add your edits and changes to GitHub, use ```git push origin```. ```origin``` is the **home** repository that is connected to the repository you cloned.\n",
    "\n",
    "Once again, this can be done from the GitHub GUI, but today we are focussing on using the command line\n",
    "\n",
    "In your own directory, use ```git branch <NameOfBranch>``` to create your own branch. Add some file to it of your choice."
   ]
  },
  {
   "cell_type": "markdown",
   "metadata": {},
   "source": [
    "Now you have a branch on your personal computer, that is not reflected on GitHub. You cannot use ```git push origin``` in this case, since the branch you are working from is not on GitHub, so you must create a new one by usinga:\n",
    "\n",
    "```bash\n",
    "git push --set-upstream origin <NameOfBranch>\n",
    "```\n",
    "\n",
    "Now you should see these changes reflected on the GitHub page. Once you have created a new file that is only on your branch let's merge all of our branches to the master branch (one person at a time).\n",
    "\n",
    "1. Ensure you have the most up-to-date version of the repository\n",
    "```bash\n",
    "git pull origin```\n",
    "2. Move over to the master branch\n",
    "```bash\n",
    "git checkout master```\n",
    "3. Merge the branches\n",
    "```bash\n",
    "git merge <NameOfBranch>\n",
    "```\n",
    "4. Finally, push your merge up to GitHub\n",
    "```bash\n",
    "git push origin```"
   ]
  },
  {
   "cell_type": "markdown",
   "metadata": {},
   "source": [
    "# What are we doing next week?"
   ]
  },
  {
   "cell_type": "code",
   "execution_count": null,
   "metadata": {},
   "outputs": [],
   "source": []
  }
 ],
 "metadata": {
  "kernelspec": {
   "display_name": "Python 3",
   "language": "python",
   "name": "python3"
  },
  "language_info": {
   "codemirror_mode": {
    "name": "ipython",
    "version": 3
   },
   "file_extension": ".py",
   "mimetype": "text/x-python",
   "name": "python",
   "nbconvert_exporter": "python",
   "pygments_lexer": "ipython3",
   "version": "3.7.3"
  }
 },
 "nbformat": 4,
 "nbformat_minor": 2
}
